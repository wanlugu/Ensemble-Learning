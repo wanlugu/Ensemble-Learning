{
 "cells": [
  {
   "cell_type": "markdown",
   "metadata": {
    "colab_type": "text",
    "id": "view-in-github"
   },
   "source": [
    "<a href=\"https://colab.research.google.com/github/casperbh96/model-stacking/blob/master/Model_Stacking.ipynb\" target=\"_parent\"><img src=\"https://colab.research.google.com/assets/colab-badge.svg\" alt=\"Open In Colab\"/></a>"
   ]
  },
  {
   "cell_type": "code",
   "execution_count": 1,
   "metadata": {
    "colab": {
     "base_uri": "https://localhost:8080/",
     "height": 664
    },
    "colab_type": "code",
    "id": "73zWN1Sb77gf",
    "outputId": "c8947b99-8196-4c16-e67a-2101974c1152"
   },
   "outputs": [
    {
     "name": "stdout",
     "output_type": "stream",
     "text": [
      "Collecting lightgbm"
     ]
    },
    {
     "name": "stderr",
     "output_type": "stream",
     "text": [
      "WARNING: You are using pip version 22.0.3; however, version 22.2.2 is available.\n",
      "You should consider upgrading via the 'C:\\Users\\wangu\\AppData\\Local\\Programs\\Python\\Python310\\python.exe -m pip install --upgrade pip' command.\n"
     ]
    },
    {
     "name": "stdout",
     "output_type": "stream",
     "text": [
      "\n",
      "  Downloading lightgbm-3.3.2-py3-none-win_amd64.whl (1.0 MB)\n",
      "     ---------------------------------------- 1.0/1.0 MB 1.8 MB/s eta 0:00:00\n",
      "Collecting xgboost\n",
      "  Downloading xgboost-1.6.1-py3-none-win_amd64.whl (125.4 MB)\n",
      "     -------------------------------------- 125.4/125.4 MB 3.3 MB/s eta 0:00:00\n",
      "Requirement already satisfied: scikit-learn in c:\\users\\wangu\\appdata\\local\\programs\\python\\python310\\lib\\site-packages (1.0.2)\n",
      "Collecting scikit-learn\n",
      "  Downloading scikit_learn-1.1.2-cp310-cp310-win_amd64.whl (7.4 MB)\n",
      "     ---------------------------------------- 7.4/7.4 MB 5.0 MB/s eta 0:00:00\n",
      "Requirement already satisfied: pandas in c:\\users\\wangu\\appdata\\local\\programs\\python\\python310\\lib\\site-packages (1.4.1)\n",
      "Collecting pandas\n",
      "  Downloading pandas-1.4.3-cp310-cp310-win_amd64.whl (10.5 MB)\n",
      "     ---------------------------------------- 10.5/10.5 MB 5.1 MB/s eta 0:00:00\n",
      "Collecting mlxtend\n",
      "  Downloading mlxtend-0.20.0-py2.py3-none-any.whl (1.3 MB)\n",
      "     ---------------------------------------- 1.3/1.3 MB 5.0 MB/s eta 0:00:00\n",
      "Requirement already satisfied: wheel in c:\\users\\wangu\\appdata\\local\\programs\\python\\python310\\lib\\site-packages (from lightgbm) (0.37.1)\n",
      "Requirement already satisfied: numpy in c:\\users\\wangu\\appdata\\local\\programs\\python\\python310\\lib\\site-packages (from lightgbm) (1.22.2)\n",
      "Requirement already satisfied: scipy in c:\\users\\wangu\\appdata\\local\\programs\\python\\python310\\lib\\site-packages (from lightgbm) (1.8.0)\n",
      "Requirement already satisfied: joblib>=1.0.0 in c:\\users\\wangu\\appdata\\local\\programs\\python\\python310\\lib\\site-packages (from scikit-learn) (1.1.0)\n",
      "Requirement already satisfied: threadpoolctl>=2.0.0 in c:\\users\\wangu\\appdata\\local\\programs\\python\\python310\\lib\\site-packages (from scikit-learn) (3.1.0)\n",
      "Requirement already satisfied: pytz>=2020.1 in c:\\users\\wangu\\appdata\\local\\programs\\python\\python310\\lib\\site-packages (from pandas) (2021.3)\n",
      "Requirement already satisfied: python-dateutil>=2.8.1 in c:\\users\\wangu\\appdata\\local\\programs\\python\\python310\\lib\\site-packages (from pandas) (2.8.2)\n",
      "Requirement already satisfied: matplotlib>=3.0.0 in c:\\users\\wangu\\appdata\\local\\programs\\python\\python310\\lib\\site-packages (from mlxtend) (3.5.1)\n",
      "Requirement already satisfied: setuptools in c:\\users\\wangu\\appdata\\local\\programs\\python\\python310\\lib\\site-packages (from mlxtend) (58.1.0)\n",
      "Requirement already satisfied: pillow>=6.2.0 in c:\\users\\wangu\\appdata\\local\\programs\\python\\python310\\lib\\site-packages (from matplotlib>=3.0.0->mlxtend) (9.0.1)\n",
      "Requirement already satisfied: packaging>=20.0 in c:\\users\\wangu\\appdata\\local\\programs\\python\\python310\\lib\\site-packages (from matplotlib>=3.0.0->mlxtend) (21.3)\n",
      "Requirement already satisfied: cycler>=0.10 in c:\\users\\wangu\\appdata\\local\\programs\\python\\python310\\lib\\site-packages (from matplotlib>=3.0.0->mlxtend) (0.11.0)\n",
      "Requirement already satisfied: pyparsing>=2.2.1 in c:\\users\\wangu\\appdata\\local\\programs\\python\\python310\\lib\\site-packages (from matplotlib>=3.0.0->mlxtend) (3.0.7)\n",
      "Requirement already satisfied: fonttools>=4.22.0 in c:\\users\\wangu\\appdata\\local\\programs\\python\\python310\\lib\\site-packages (from matplotlib>=3.0.0->mlxtend) (4.29.1)\n",
      "Requirement already satisfied: kiwisolver>=1.0.1 in c:\\users\\wangu\\appdata\\local\\programs\\python\\python310\\lib\\site-packages (from matplotlib>=3.0.0->mlxtend) (1.3.2)\n",
      "Requirement already satisfied: six>=1.5 in c:\\users\\wangu\\appdata\\local\\programs\\python\\python310\\lib\\site-packages (from python-dateutil>=2.8.1->pandas) (1.16.0)\n",
      "Installing collected packages: xgboost, scikit-learn, pandas, mlxtend, lightgbm\n",
      "  Attempting uninstall: scikit-learn\n",
      "    Found existing installation: scikit-learn 1.0.2\n",
      "    Uninstalling scikit-learn-1.0.2:\n",
      "      Successfully uninstalled scikit-learn-1.0.2\n",
      "  Attempting uninstall: pandas\n",
      "    Found existing installation: pandas 1.4.1\n",
      "    Uninstalling pandas-1.4.1:\n",
      "      Successfully uninstalled pandas-1.4.1\n",
      "Successfully installed lightgbm-3.3.2 mlxtend-0.20.0 pandas-1.4.3 scikit-learn-1.1.2 xgboost-1.6.1\n"
     ]
    }
   ],
   "source": [
    "!pip install lightgbm xgboost scikit-learn pandas mlxtend --upgrade"
   ]
  },
  {
   "cell_type": "code",
   "execution_count": 2,
   "metadata": {
    "colab": {},
    "colab_type": "code",
    "id": "dzx0-ABr75WX"
   },
   "outputs": [],
   "source": [
    "import pandas as pd\n",
    "import numpy as np\n",
    "from sklearn.datasets import load_boston\n",
    "\n",
    "# Suppress warnings for now\n",
    "import warnings\n",
    "warnings.simplefilter(action='ignore', category=UserWarning)\n",
    "warnings.simplefilter(action='ignore', category=FutureWarning)"
   ]
  },
  {
   "cell_type": "markdown",
   "metadata": {
    "colab_type": "text",
    "id": "R5vCI_Fl75Wa"
   },
   "source": [
    "# Loading the dataset from Scikit-Learn"
   ]
  },
  {
   "cell_type": "code",
   "execution_count": 3,
   "metadata": {
    "colab": {},
    "colab_type": "code",
    "id": "2yw3p1Z675Wb"
   },
   "outputs": [],
   "source": [
    "def dataset_to_df(load):\n",
    "    # Load the input data into the dataframe\n",
    "    df = pd.DataFrame(load.data, columns=load.feature_names)\n",
    "    \n",
    "    # Add the output data into the dataframe\n",
    "    df['label'] = pd.Series(load.target)\n",
    "    \n",
    "    # Return the dataframe\n",
    "    return df"
   ]
  },
  {
   "cell_type": "code",
   "execution_count": 7,
   "metadata": {},
   "outputs": [
    {
     "name": "stdout",
     "output_type": "stream",
     "text": [
      ".. _boston_dataset:\n",
      "\n",
      "Boston house prices dataset\n",
      "---------------------------\n",
      "\n",
      "**Data Set Characteristics:**  \n",
      "\n",
      "    :Number of Instances: 506 \n",
      "\n",
      "    :Number of Attributes: 13 numeric/categorical predictive. Median Value (attribute 14) is usually the target.\n",
      "\n",
      "    :Attribute Information (in order):\n",
      "        - CRIM     per capita crime rate by town\n",
      "        - ZN       proportion of residential land zoned for lots over 25,000 sq.ft.\n",
      "        - INDUS    proportion of non-retail business acres per town\n",
      "        - CHAS     Charles River dummy variable (= 1 if tract bounds river; 0 otherwise)\n",
      "        - NOX      nitric oxides concentration (parts per 10 million)\n",
      "        - RM       average number of rooms per dwelling\n",
      "        - AGE      proportion of owner-occupied units built prior to 1940\n",
      "        - DIS      weighted distances to five Boston employment centres\n",
      "        - RAD      index of accessibility to radial highways\n",
      "        - TAX      full-value property-tax rate per $10,000\n",
      "        - PTRATIO  pupil-teacher ratio by town\n",
      "        - B        1000(Bk - 0.63)^2 where Bk is the proportion of black people by town\n",
      "        - LSTAT    % lower status of the population\n",
      "        - MEDV     Median value of owner-occupied homes in $1000's\n",
      "\n",
      "    :Missing Attribute Values: None\n",
      "\n",
      "    :Creator: Harrison, D. and Rubinfeld, D.L.\n",
      "\n",
      "This is a copy of UCI ML housing dataset.\n",
      "https://archive.ics.uci.edu/ml/machine-learning-databases/housing/\n",
      "\n",
      "\n",
      "This dataset was taken from the StatLib library which is maintained at Carnegie Mellon University.\n",
      "\n",
      "The Boston house-price data of Harrison, D. and Rubinfeld, D.L. 'Hedonic\n",
      "prices and the demand for clean air', J. Environ. Economics & Management,\n",
      "vol.5, 81-102, 1978.   Used in Belsley, Kuh & Welsch, 'Regression diagnostics\n",
      "...', Wiley, 1980.   N.B. Various transformations are used in the table on\n",
      "pages 244-261 of the latter.\n",
      "\n",
      "The Boston house-price data has been used in many machine learning papers that address regression\n",
      "problems.   \n",
      "     \n",
      ".. topic:: References\n",
      "\n",
      "   - Belsley, Kuh & Welsch, 'Regression diagnostics: Identifying Influential Data and Sources of Collinearity', Wiley, 1980. 244-261.\n",
      "   - Quinlan,R. (1993). Combining Instance-Based and Model-Based Learning. In Proceedings on the Tenth International Conference of Machine Learning, 236-243, University of Massachusetts, Amherst. Morgan Kaufmann.\n",
      "\n"
     ]
    }
   ],
   "source": [
    "print(load_boston().DESCR)"
   ]
  },
  {
   "cell_type": "code",
   "execution_count": 4,
   "metadata": {
    "colab": {
     "base_uri": "https://localhost:8080/",
     "height": 204
    },
    "colab_type": "code",
    "id": "OKcGkfdA75Wd",
    "outputId": "c8ace8bf-c0c5-404b-b0c0-d9afbba5dee1",
    "scrolled": true
   },
   "outputs": [
    {
     "data": {
      "text/html": [
       "<div>\n",
       "<style scoped>\n",
       "    .dataframe tbody tr th:only-of-type {\n",
       "        vertical-align: middle;\n",
       "    }\n",
       "\n",
       "    .dataframe tbody tr th {\n",
       "        vertical-align: top;\n",
       "    }\n",
       "\n",
       "    .dataframe thead th {\n",
       "        text-align: right;\n",
       "    }\n",
       "</style>\n",
       "<table border=\"1\" class=\"dataframe\">\n",
       "  <thead>\n",
       "    <tr style=\"text-align: right;\">\n",
       "      <th></th>\n",
       "      <th>CRIM</th>\n",
       "      <th>ZN</th>\n",
       "      <th>INDUS</th>\n",
       "      <th>CHAS</th>\n",
       "      <th>NOX</th>\n",
       "      <th>RM</th>\n",
       "      <th>AGE</th>\n",
       "      <th>DIS</th>\n",
       "      <th>RAD</th>\n",
       "      <th>TAX</th>\n",
       "      <th>PTRATIO</th>\n",
       "      <th>B</th>\n",
       "      <th>LSTAT</th>\n",
       "      <th>label</th>\n",
       "    </tr>\n",
       "  </thead>\n",
       "  <tbody>\n",
       "    <tr>\n",
       "      <th>0</th>\n",
       "      <td>0.00632</td>\n",
       "      <td>18.0</td>\n",
       "      <td>2.31</td>\n",
       "      <td>0.0</td>\n",
       "      <td>0.538</td>\n",
       "      <td>6.575</td>\n",
       "      <td>65.2</td>\n",
       "      <td>4.0900</td>\n",
       "      <td>1.0</td>\n",
       "      <td>296.0</td>\n",
       "      <td>15.3</td>\n",
       "      <td>396.90</td>\n",
       "      <td>4.98</td>\n",
       "      <td>24.0</td>\n",
       "    </tr>\n",
       "    <tr>\n",
       "      <th>1</th>\n",
       "      <td>0.02731</td>\n",
       "      <td>0.0</td>\n",
       "      <td>7.07</td>\n",
       "      <td>0.0</td>\n",
       "      <td>0.469</td>\n",
       "      <td>6.421</td>\n",
       "      <td>78.9</td>\n",
       "      <td>4.9671</td>\n",
       "      <td>2.0</td>\n",
       "      <td>242.0</td>\n",
       "      <td>17.8</td>\n",
       "      <td>396.90</td>\n",
       "      <td>9.14</td>\n",
       "      <td>21.6</td>\n",
       "    </tr>\n",
       "    <tr>\n",
       "      <th>2</th>\n",
       "      <td>0.02729</td>\n",
       "      <td>0.0</td>\n",
       "      <td>7.07</td>\n",
       "      <td>0.0</td>\n",
       "      <td>0.469</td>\n",
       "      <td>7.185</td>\n",
       "      <td>61.1</td>\n",
       "      <td>4.9671</td>\n",
       "      <td>2.0</td>\n",
       "      <td>242.0</td>\n",
       "      <td>17.8</td>\n",
       "      <td>392.83</td>\n",
       "      <td>4.03</td>\n",
       "      <td>34.7</td>\n",
       "    </tr>\n",
       "    <tr>\n",
       "      <th>3</th>\n",
       "      <td>0.03237</td>\n",
       "      <td>0.0</td>\n",
       "      <td>2.18</td>\n",
       "      <td>0.0</td>\n",
       "      <td>0.458</td>\n",
       "      <td>6.998</td>\n",
       "      <td>45.8</td>\n",
       "      <td>6.0622</td>\n",
       "      <td>3.0</td>\n",
       "      <td>222.0</td>\n",
       "      <td>18.7</td>\n",
       "      <td>394.63</td>\n",
       "      <td>2.94</td>\n",
       "      <td>33.4</td>\n",
       "    </tr>\n",
       "    <tr>\n",
       "      <th>4</th>\n",
       "      <td>0.06905</td>\n",
       "      <td>0.0</td>\n",
       "      <td>2.18</td>\n",
       "      <td>0.0</td>\n",
       "      <td>0.458</td>\n",
       "      <td>7.147</td>\n",
       "      <td>54.2</td>\n",
       "      <td>6.0622</td>\n",
       "      <td>3.0</td>\n",
       "      <td>222.0</td>\n",
       "      <td>18.7</td>\n",
       "      <td>396.90</td>\n",
       "      <td>5.33</td>\n",
       "      <td>36.2</td>\n",
       "    </tr>\n",
       "  </tbody>\n",
       "</table>\n",
       "</div>"
      ],
      "text/plain": [
       "      CRIM    ZN  INDUS  CHAS    NOX     RM   AGE     DIS  RAD    TAX  \\\n",
       "0  0.00632  18.0   2.31   0.0  0.538  6.575  65.2  4.0900  1.0  296.0   \n",
       "1  0.02731   0.0   7.07   0.0  0.469  6.421  78.9  4.9671  2.0  242.0   \n",
       "2  0.02729   0.0   7.07   0.0  0.469  7.185  61.1  4.9671  2.0  242.0   \n",
       "3  0.03237   0.0   2.18   0.0  0.458  6.998  45.8  6.0622  3.0  222.0   \n",
       "4  0.06905   0.0   2.18   0.0  0.458  7.147  54.2  6.0622  3.0  222.0   \n",
       "\n",
       "   PTRATIO       B  LSTAT  label  \n",
       "0     15.3  396.90   4.98   24.0  \n",
       "1     17.8  396.90   9.14   21.6  \n",
       "2     17.8  392.83   4.03   34.7  \n",
       "3     18.7  394.63   2.94   33.4  \n",
       "4     18.7  396.90   5.33   36.2  "
      ]
     },
     "execution_count": 4,
     "metadata": {},
     "output_type": "execute_result"
    }
   ],
   "source": [
    "df = dataset_to_df(load_boston())\n",
    "df.head()"
   ]
  },
  {
   "cell_type": "markdown",
   "metadata": {
    "colab_type": "text",
    "id": "GCIJZVIG75Wg"
   },
   "source": [
    "# What does the features mean?\n",
    "\n",
    "The features are described here: https://www.cs.toronto.edu/~delve/data/boston/bostonDetail.html\n",
    "\n",
    "1. CRIM - per capita crime rate by town\n",
    "2. ZN - proportion of residential land zoned for lots over 25,000 sq.ft.\n",
    "3. INDUS - proportion of non-retail business acres per town.\n",
    "4. CHAS - Charles River dummy variable (1 if tract bounds river; 0 otherwise)\n",
    "5. NOX - nitric oxides concentration (parts per 10 million)\n",
    "6. RM - average number of rooms per dwelling\n",
    "7. AGE - proportion of owner-occupied units built prior to 1940\n",
    "8. DIS - weighted distances to five Boston employment centres\n",
    "9. RAD - index of accessibility to radial highways\n",
    "10. TAX - full-value property-tax rate per \\$10,000\n",
    "11. PTRATIO - pupil-teacher ratio by town\n",
    "12. B - $1000(Bk - 0.63)^2$ where Bk is the proportion of blacks by town\n",
    "13. LSTAT - % lower status of the population\n",
    "14. (label) MEDV - Median value of owner-occupied homes in $1000's"
   ]
  },
  {
   "cell_type": "markdown",
   "metadata": {
    "colab_type": "text",
    "id": "BN7de4PZ75Wg"
   },
   "source": [
    "# Baseline Predictions"
   ]
  },
  {
   "cell_type": "code",
   "execution_count": 8,
   "metadata": {
    "colab": {},
    "colab_type": "code",
    "id": "v565z6M375Wh"
   },
   "outputs": [],
   "source": [
    "from sklearn.model_selection import train_test_split\n",
    "\n",
    "# Getting the output variable\n",
    "y = df['label']\n",
    "\n",
    "# Getting the input variables\n",
    "X = df.drop(['label'], axis=1)\n",
    "\n",
    "# Diving our input and output into training and testing sets\n",
    "X_train, X_test, y_train, y_test = train_test_split(\n",
    "                                    X, y, \n",
    "                                    test_size=0.33, \n",
    "                                    random_state=42\n",
    "                                   )"
   ]
  },
  {
   "cell_type": "code",
   "execution_count": 9,
   "metadata": {
    "colab": {},
    "colab_type": "code",
    "id": "GcmAVXh275Wj"
   },
   "outputs": [],
   "source": [
    "from sklearn.model_selection import GridSearchCV\n",
    "from sklearn.metrics import r2_score\n",
    "\n",
    "def algorithm_pipeline(X_train_data, X_test_data, y_train_data, y_test_data, \n",
    "                       model, param_grid, cv=10, scoring_fit='neg_mean_squared_error',\n",
    "                       scoring_test=r2_score, do_probabilities = False):\n",
    "    gs = GridSearchCV(\n",
    "        estimator=model,\n",
    "        param_grid=param_grid, \n",
    "        cv=cv, \n",
    "        n_jobs=-1, \n",
    "        scoring=scoring_fit,\n",
    "        verbose=2\n",
    "    )\n",
    "    fitted_model = gs.fit(X_train_data, y_train_data)\n",
    "    best_model = fitted_model.best_estimator_\n",
    "    \n",
    "    if do_probabilities:\n",
    "        pred = fitted_model.predict_proba(X_test_data)\n",
    "    else:\n",
    "        pred = fitted_model.predict(X_test_data)\n",
    "    \n",
    "    score = scoring_test(y_test_data, pred)\n",
    "    \n",
    "    return [best_model, pred, score]"
   ]
  },
  {
   "cell_type": "code",
   "execution_count": 11,
   "metadata": {},
   "outputs": [
    {
     "data": {
      "text/plain": [
       "(339, 13)"
      ]
     },
     "execution_count": 11,
     "metadata": {},
     "output_type": "execute_result"
    }
   ],
   "source": [
    "X_train.shape"
   ]
  },
  {
   "cell_type": "code",
   "execution_count": 12,
   "metadata": {
    "colab": {},
    "colab_type": "code",
    "id": "P--RzLUz75Wl"
   },
   "outputs": [],
   "source": [
    "from sklearn.ensemble import RandomForestRegressor\n",
    "from lightgbm import LGBMRegressor\n",
    "from xgboost import XGBRegressor\n",
    "\n",
    "# Defining our estimator, the algorithm to optimize\n",
    "models_to_train = [XGBRegressor(), LGBMRegressor(), RandomForestRegressor()]\n",
    "\n",
    "# Defining the hyperparameters to optimize\n",
    "grid_parameters = [\n",
    "    { # XGBoost\n",
    "        'n_estimators': [400, 700, 1000],\n",
    "        'colsample_bytree': [0.7, 0.8],\n",
    "        'max_depth': [15,20,25],\n",
    "        'reg_alpha': [1.1, 1.2, 1.3],\n",
    "        'reg_lambda': [1.1, 1.2, 1.3],\n",
    "        'subsample': [0.7, 0.8, 0.9]\n",
    "    },\n",
    "    { # LightGBM\n",
    "        'n_estimators': [400, 700, 1000],\n",
    "        'learning_rate': [0.12],\n",
    "        'colsample_bytree': [0.7, 0.8],\n",
    "        'max_depth': [4],\n",
    "        'num_leaves': [10, 20],\n",
    "        'reg_alpha': [1.1, 1.2],\n",
    "        'reg_lambda': [1.1, 1.2],\n",
    "        'min_split_gain': [0.3, 0.4],\n",
    "        'subsample': [0.8, 0.9],\n",
    "        'subsample_freq': [10, 20]\n",
    "    }, \n",
    "    { # Random Forest\n",
    "        'max_depth':[3, 5, 10, 13], \n",
    "        'n_estimators':[100, 200, 400, 600, 900],\n",
    "        'max_features':[2, 4, 6, 8, 10]\n",
    "    }\n",
    "]"
   ]
  },
  {
   "cell_type": "code",
   "execution_count": 13,
   "metadata": {
    "colab": {
     "base_uri": "https://localhost:8080/",
     "height": 425
    },
    "colab_type": "code",
    "id": "QEE4dwk175Wn",
    "outputId": "1835710e-1db8-4576-d256-cc8fc01a7c2e"
   },
   "outputs": [
    {
     "name": "stdout",
     "output_type": "stream",
     "text": [
      "Fitting 5 folds for each of 486 candidates, totalling 2430 fits\n",
      "Fitting 5 folds for each of 384 candidates, totalling 1920 fits\n",
      "Fitting 5 folds for each of 100 candidates, totalling 500 fits\n"
     ]
    }
   ],
   "source": [
    "models_preds_scores = []\n",
    "\n",
    "for i, model in enumerate(models_to_train):\n",
    "    params = grid_parameters[i]\n",
    "    \n",
    "    result = algorithm_pipeline(X_train, X_test, y_train, y_test, \n",
    "                                 model, params, cv=5)\n",
    "    models_preds_scores.append(result)"
   ]
  },
  {
   "cell_type": "code",
   "execution_count": 16,
   "metadata": {},
   "outputs": [
    {
     "data": {
      "text/plain": [
       "[[XGBRegressor(base_score=0.5, booster='gbtree', callbacks=None,\n",
       "               colsample_bylevel=1, colsample_bynode=1, colsample_bytree=0.7,\n",
       "               early_stopping_rounds=None, enable_categorical=False,\n",
       "               eval_metric=None, gamma=0, gpu_id=-1, grow_policy='depthwise',\n",
       "               importance_type=None, interaction_constraints='',\n",
       "               learning_rate=0.300000012, max_bin=256, max_cat_to_onehot=4,\n",
       "               max_delta_step=0, max_depth=15, max_leaves=0, min_child_weight=1,\n",
       "               missing=nan, monotone_constraints='()', n_estimators=1000,\n",
       "               n_jobs=0, num_parallel_tree=1, predictor='auto', random_state=0,\n",
       "               reg_alpha=1.2, reg_lambda=1.2, ...),\n",
       "  array([23.95754  , 32.705498 , 15.235233 , 24.20171  , 16.474546 ,\n",
       "         22.302444 , 18.716862 , 13.974871 , 21.651209 , 20.553608 ,\n",
       "         22.934168 , 19.19148  ,  8.922742 , 20.990038 , 20.225039 ,\n",
       "         27.564415 , 20.030481 ,  8.917072 , 45.654037 , 13.328961 ,\n",
       "         24.037357 , 26.432467 , 13.938654 , 22.789734 , 17.813284 ,\n",
       "         16.866673 , 23.368834 , 12.992527 , 18.443472 , 22.188152 ,\n",
       "         20.105179 , 24.055609 , 21.447866 , 19.617163 , 16.693424 ,\n",
       "         15.5188265, 32.163548 , 18.84488  , 21.25361  , 23.673248 ,\n",
       "         20.01509  , 29.14634  , 46.199146 , 19.719883 , 22.045008 ,\n",
       "         14.903358 , 16.381163 , 22.718874 , 20.394474 , 26.61215  ,\n",
       "         22.30866  , 34.961956 , 15.857794 , 25.836021 , 48.449265 ,\n",
       "         22.209066 , 16.895472 , 33.589836 , 20.08563  , 17.072517 ,\n",
       "         21.72975  , 33.22159  , 33.51753  , 17.393322 , 23.307331 ,\n",
       "         15.434779 , 13.659237 , 22.486292 , 29.746233 , 17.570324 ,\n",
       "         20.586567 , 25.689688 ,  9.949104 , 21.341572 , 22.911081 ,\n",
       "          8.16643  , 20.40722  , 47.02661  , 10.284822 , 11.645094 ,\n",
       "         22.036312 , 13.966882 , 22.218632 ,  9.749154 , 20.197416 ,\n",
       "         27.606743 , 17.198343 , 23.901283 , 23.860592 , 18.045809 ,\n",
       "         23.885895 ,  8.076691 , 19.10054  , 18.056013 , 21.151762 ,\n",
       "         19.313784 , 38.37043  , 10.203924 ,  8.399207 ,  8.374235 ,\n",
       "         19.464388 , 26.005888 , 14.00123  , 20.047321 , 23.38472  ,\n",
       "         11.9267235, 16.819275 , 23.9223   , 19.49646  , 24.666903 ,\n",
       "          6.4820585, 18.290783 , 20.50966  , 23.789255 , 31.31093  ,\n",
       "         12.54633  , 38.511337 , 15.508398 , 21.30346  , 23.43504  ,\n",
       "         18.519361 , 24.239481 ,  7.4777217, 20.17978  , 23.912996 ,\n",
       "         22.66031  , 21.443853 , 34.94568  , 17.93293  , 46.11814  ,\n",
       "         15.944378 , 24.924036 , 18.62243  , 19.483992 , 13.854231 ,\n",
       "         19.840054 , 18.856167 , 31.842485 , 28.65628  , 17.517832 ,\n",
       "         17.834524 , 23.90774  , 20.684841 , 20.143524 ,  7.2736025,\n",
       "         21.581284 , 17.527975 , 13.871749 , 13.136461 , 40.540855 ,\n",
       "         15.929946 , 15.724528 , 27.662474 , 20.227573 , 20.037304 ,\n",
       "         19.077713 , 18.318117 , 24.19362  , 34.707397 ,  9.138085 ,\n",
       "         24.146265 , 18.442162 , 22.748768 , 23.75907  , 22.642637 ,\n",
       "         22.004913 , 42.27229  ], dtype=float32),\n",
       "  0.8845639246881948],\n",
       " [LGBMRegressor(colsample_bytree=0.7, learning_rate=0.12, max_depth=4,\n",
       "                min_split_gain=0.4, n_estimators=400, num_leaves=10,\n",
       "                reg_alpha=1.1, reg_lambda=1.1, subsample=0.9, subsample_freq=20),\n",
       "  array([24.22059289, 35.40473627, 14.78583064, 24.04238607, 17.48477006,\n",
       "         22.65954988, 19.58811105, 16.37493333, 22.32670521, 20.3334372 ,\n",
       "         21.86969582, 20.0386128 ,  3.98180016, 21.34976582, 19.65388167,\n",
       "         23.43275509, 20.13482511,  7.54241445, 46.18734707, 14.18585507,\n",
       "         24.60052907, 24.09890696, 14.0323555 , 22.91318499, 15.01357356,\n",
       "         16.56022923, 23.39113253, 12.09783112, 21.74585937, 21.04251716,\n",
       "         20.48099209, 23.28197328, 24.13349701, 22.9668132 , 15.17917595,\n",
       "         13.73288362, 34.26882886, 18.48247663, 23.51759045, 24.52038028,\n",
       "         19.69487325, 28.49285175, 45.99449556, 20.96986424, 22.85350148,\n",
       "         13.89901321, 15.97287386, 23.67125879, 18.80001106, 30.73855927,\n",
       "         21.6310913 , 36.53800224, 16.92097039, 25.61790811, 49.2234783 ,\n",
       "         22.17625679, 16.32614806, 33.93003036, 20.98645574, 19.35404705,\n",
       "         24.97482288, 33.11717021, 36.6715451 , 18.22531771, 23.89645887,\n",
       "         18.65704727, 11.67392356, 23.51505822, 31.78947556, 15.72746247,\n",
       "         19.97785321, 27.47930119, 10.77369392, 21.19562788, 22.49974612,\n",
       "          7.74543737, 21.35644621, 46.39247431,  8.30065758, 11.4914839 ,\n",
       "         22.8991509 , 14.87023149, 21.25530353,  8.36672547, 18.84565872,\n",
       "         31.29890845, 15.87737626, 24.18832002, 22.80740804, 18.63343283,\n",
       "         23.23069682,  5.77978307, 19.51249633, 17.78489839, 23.10734209,\n",
       "         20.0673348 , 33.1952571 ,  8.63988876, 10.83465393, 13.63033804,\n",
       "         18.61772015, 24.01784242, 10.29112072, 20.3205662 , 19.6987472 ,\n",
       "         13.78211389, 17.60780652, 27.08931521, 21.00244999, 22.85040593,\n",
       "          6.95332435, 15.86930297, 21.38953384, 25.3585684 , 30.35595341,\n",
       "         12.17054456, 38.68134297, 13.65739993, 20.24332745, 22.18485753,\n",
       "         18.3930849 , 24.08889729,  7.52146609, 19.88909181, 23.25493101,\n",
       "         23.53352996, 21.61999186, 36.85295932, 17.9902039 , 45.66211353,\n",
       "         16.93100116, 22.15178385, 17.40996495, 19.01443646, 13.34778063,\n",
       "         19.72748564, 21.33249993, 36.07534615, 30.39351364, 16.2794809 ,\n",
       "         17.02707947, 25.60684302, 18.59896537, 20.00598749,  5.29576174,\n",
       "         19.94196075, 16.69761519, 13.27458   , 13.96869415, 38.66307795,\n",
       "         15.5919653 , 14.64521639, 28.52127614, 20.88972828, 20.09718731,\n",
       "         20.38733394, 15.50677026, 23.72669456, 39.37405543,  8.91603547,\n",
       "         24.73722802, 18.76025399, 21.70602453, 22.96184877, 24.14667431,\n",
       "         20.99109473, 43.03568745]),\n",
       "  0.8600616387760088],\n",
       " [RandomForestRegressor(max_depth=10, max_features=6),\n",
       "  array([22.99541497, 31.64667619, 16.23097483, 23.40279311, 16.92340726,\n",
       "         21.60726239, 19.74083552, 14.93913021, 20.88771947, 20.86175606,\n",
       "         20.11374054, 20.57356711,  9.12611905, 21.08947537, 20.58620579,\n",
       "         24.497911  , 18.91769667,  8.67412249, 43.9023    , 15.51224729,\n",
       "         24.24927898, 24.14811599, 14.72577926, 22.21990905, 15.05202149,\n",
       "         15.80619137, 21.70893659, 13.92526872, 20.46674184, 20.97688651,\n",
       "         20.37352607, 23.24658889, 24.90645833, 20.20616978, 14.90146841,\n",
       "         16.00555534, 36.32656667, 19.40616509, 21.24669029, 23.85700049,\n",
       "         17.78532203, 29.50403066, 44.0118    , 20.99805213, 22.49304439,\n",
       "         14.13951316, 16.02301168, 24.22866108, 18.57772078, 27.40267353,\n",
       "         21.56879312, 33.35144387, 17.18370038, 25.45065439, 45.17923333,\n",
       "         21.29293357, 15.81075104, 33.11305   , 21.58321348, 20.37532187,\n",
       "         25.06962226, 33.85014087, 31.43940385, 18.99409291, 26.26981194,\n",
       "         17.74117327, 13.55662214, 23.30334525, 29.69143586, 16.09227707,\n",
       "         21.67541422, 27.54487818, 10.80707234, 21.93198922, 21.78907651,\n",
       "          8.08842778, 19.85659732, 44.7058    , 11.18868638, 12.30557444,\n",
       "         21.95690043, 12.01848635, 20.97365964,  8.86215424, 20.82144212,\n",
       "         26.63918484, 16.10975989, 23.28597303, 23.88778101, 17.97342567,\n",
       "         21.81045842,  7.59954524, 19.49595682, 19.69942071, 25.01354947,\n",
       "         19.53066852, 31.70005352, 12.40076929, 12.46235429, 13.51770384,\n",
       "         20.61252138, 22.92276391, 13.69564825, 19.93112523, 21.660598  ,\n",
       "         13.07198831, 19.21179295, 24.54029952, 20.02492694, 23.49648284,\n",
       "          8.83639947, 16.71442011, 22.40400135, 23.05497839, 31.17601517,\n",
       "         14.7835647 , 39.49428788, 16.65856579, 20.18552887, 24.18819475,\n",
       "         20.21019144, 24.3149883 ,  9.76409487, 20.82378255, 24.83023888,\n",
       "         21.70336796, 23.80417943, 35.23446813, 16.98840111, 44.593     ,\n",
       "         16.28216986, 23.08418402, 18.57669129, 19.19445445, 14.21910548,\n",
       "         20.42232082, 20.34396019, 31.92903333, 29.76204239, 17.45446086,\n",
       "         18.54765134, 24.89007542, 20.60676108, 18.93933575,  7.8327119 ,\n",
       "         21.74736356, 17.67942827, 13.61060498, 15.18551712, 41.05721795,\n",
       "         15.50045354, 15.76384729, 24.84766711, 21.05589537, 21.3627598 ,\n",
       "         20.96853475, 16.7701062 , 24.49100021, 35.90949762,  9.98085678,\n",
       "         22.23079421, 20.20504848, 20.07159948, 23.33130283, 22.84949038,\n",
       "         22.53849908, 43.65733333]),\n",
       "  0.867298554927261]]"
      ]
     },
     "execution_count": 16,
     "metadata": {},
     "output_type": "execute_result"
    }
   ],
   "source": [
    "models_preds_scores"
   ]
  },
  {
   "cell_type": "code",
   "execution_count": 14,
   "metadata": {
    "colab": {
     "base_uri": "https://localhost:8080/",
     "height": 68
    },
    "colab_type": "code",
    "id": "4LBj5Zy1q_Mq",
    "outputId": "1ac4f255-7100-46ee-b5c6-8a447866b2df",
    "scrolled": true
   },
   "outputs": [
    {
     "name": "stdout",
     "output_type": "stream",
     "text": [
      "Model: XGBRegressor, Score: 0.8845639246881948\n",
      "Model: LGBMRegressor, Score: 0.8600616387760088\n",
      "Model: RandomForestRegressor, Score: 0.867298554927261\n"
     ]
    }
   ],
   "source": [
    "for result in models_preds_scores:\n",
    "    print('Model: {0}, Score: {1}'.format(type(result[0]).__name__, result[2]))"
   ]
  },
  {
   "cell_type": "markdown",
   "metadata": {
    "colab_type": "text",
    "id": "mJVra5Eg75Wr"
   },
   "source": [
    "# Improving baseline with stacking"
   ]
  },
  {
   "cell_type": "code",
   "execution_count": 17,
   "metadata": {
    "colab": {
     "base_uri": "https://localhost:8080/",
     "height": 272
    },
    "colab_type": "code",
    "id": "HaorxncP75Wt",
    "outputId": "f53f5ae9-d621-4118-a965-5a41fb909ecf"
   },
   "outputs": [
    {
     "name": "stdout",
     "output_type": "stream",
     "text": [
      "0.8745240809242154\n"
     ]
    }
   ],
   "source": [
    "from mlxtend.regressor import StackingCVRegressor\n",
    "from sklearn.linear_model import Ridge, Lasso\n",
    "from sklearn.svm import SVR\n",
    "\n",
    "xgb = XGBRegressor()\n",
    "lgbm = LGBMRegressor()\n",
    "rf = RandomForestRegressor()\n",
    "ridge = Ridge()\n",
    "lasso = Lasso()\n",
    "svr = SVR(kernel='linear')\n",
    "\n",
    "stack = StackingCVRegressor(regressors=(ridge, lasso, svr, rf, lgbm, xgb),\n",
    "                            meta_regressor=xgb, cv=5,\n",
    "                            use_features_in_secondary=True,\n",
    "                            store_train_meta_features=True,\n",
    "                            shuffle=False,\n",
    "                            random_state=42)\n",
    "\n",
    "stack.fit(X_train, y_train)\n",
    "\n",
    "X_test.columns = ['f0', 'f1', 'f2', 'f3', 'f4', 'f5', 'f6', 'f7', 'f8', 'f9', 'f10', 'f11', 'f12']\n",
    "pred = stack.predict(X_test)\n",
    "score = r2_score(y_test, pred)\n",
    "print(score)"
   ]
  }
 ],
 "metadata": {
  "colab": {
   "collapsed_sections": [],
   "include_colab_link": true,
   "name": "Model Stacking.ipynb",
   "provenance": []
  },
  "kernelspec": {
   "display_name": "Python 3 (ipykernel)",
   "language": "python",
   "name": "python3"
  },
  "language_info": {
   "codemirror_mode": {
    "name": "ipython",
    "version": 3
   },
   "file_extension": ".py",
   "mimetype": "text/x-python",
   "name": "python",
   "nbconvert_exporter": "python",
   "pygments_lexer": "ipython3",
   "version": "3.10.2"
  }
 },
 "nbformat": 4,
 "nbformat_minor": 1
}
